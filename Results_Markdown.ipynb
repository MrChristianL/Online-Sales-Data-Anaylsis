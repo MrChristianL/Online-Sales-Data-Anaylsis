{
 "cells": [
  {
   "cell_type": "markdown",
   "id": "40e96370-e5de-487d-8f15-4251049fb4ca",
   "metadata": {},
   "source": [
    "# An Analysis of Online Store Customers"
   ]
  },
  {
   "cell_type": "markdown",
   "id": "4d60d2d1-a956-4cc2-9690-7db78bdde15e",
   "metadata": {},
   "source": [
    "To Do:\n",
    "- The Data\n",
    "- The dataset, the issues, etc.\n",
    "- The Forked Repo\n",
    "- The Questions & Results"
   ]
  },
  {
   "cell_type": "markdown",
   "id": "811e2f1c-b5eb-4d49-b818-3d0a74f88cce",
   "metadata": {},
   "source": [
    "## The Dataset"
   ]
  },
  {
   "cell_type": "markdown",
   "id": "45f1a8b0-5acd-4a90-aa7b-c63f59bbdd7b",
   "metadata": {},
   "source": [
    "Dataset provided courtesy of [Keith Galli](https://github.com/KeithGalli/Pandas-Data-Science-Tasks)\n",
    "\n",
    "The dataset consists of sales data for the year 2019. The data includes items purchased, how many of each, for what price, as well as the date, time, and purchase location of the online purchases made. In order to adequately clean this data, null values needed to be removed. Additionally, the dataset included rows that only held the name of each column reiterated throughout the dataset numerous times for the sake of readability. The final, cleaned dataset consists of roughly 190,000 rows of data."
   ]
  },
  {
   "cell_type": "markdown",
   "id": "ac186592-be81-48a2-bc0b-bcc4695682a8",
   "metadata": {},
   "source": [
    "---"
   ]
  },
  {
   "cell_type": "markdown",
   "id": "b6dfe451-3d13-4137-a507-9d6259361623",
   "metadata": {},
   "source": [
    "## The Questions Addressed"
   ]
  },
  {
   "cell_type": "markdown",
   "id": "b01a91eb-16b5-4f49-a594-f6a81eaac98a",
   "metadata": {},
   "source": [
    "#### **Question 1:** *What month is the best for sales, and how much was earned in that month?*\n",
    "\n",
    "Based on the dataset, the best month for sales is **December**. This is likely due to the occurrence of Christmas during the month of December -- the largest shopping holiday in the United States, annually. Additionally, sales spiked in April and again in October. These spikes are not so easily described by national holidays, considering the items purchased are not seasonal or festive (i.e. candy sales in October would be more easily explainable)."
   ]
  },
  {
   "cell_type": "markdown",
   "id": "980c9062-d613-4af6-8cbd-454d54ab7d3f",
   "metadata": {},
   "source": [
    "![Figure 1: Monthly Sales Graph]('Pandas-Data-Science-Tasks/Results/Q1.png')"
   ]
  },
  {
   "cell_type": "markdown",
   "id": "c369e857-c3ee-422c-aa44-b551a28e651a",
   "metadata": {},
   "source": [
    "As shown in Figure 1, sales in December top out at just over $4.5 Million (USD). "
   ]
  },
  {
   "cell_type": "markdown",
   "id": "851587d6-6e41-4c89-a617-c3ba72fe0f65",
   "metadata": {},
   "source": [
    "---"
   ]
  },
  {
   "cell_type": "markdown",
   "id": "9ca18b44-0637-483b-b337-d67fef5790ac",
   "metadata": {},
   "source": [
    "#### **Question 2:** *Which city is responsible for the most sales?*\n",
    "\n",
    "The best city in terms of number of items sold, as well as total money earned in sales, is **San Fransisco, CA**. The reasoning for this may be due to the overall population in San Fransisco, the high frequency of technical work that may require more expensive products such as laptops, the average income within Silicon Valley that allows for more spending, and more. Similarly, Figure 2 shows that the cities that sold the most products earned the most income, and vice versa. This can help conclude that no city in this dataset is buying any more expensive products, but fewer products in total, than any other city."
   ]
  },
  {
   "cell_type": "markdown",
   "id": "45e421f4-eaf8-491c-af5b-6c07944da918",
   "metadata": {},
   "source": [
    "![Figure 2: City Sales]('Pandas-Data-Science-Tasks/Results/Q2.png')"
   ]
  },
  {
   "cell_type": "markdown",
   "id": "5f970609-fb13-4d21-ad42-92a9fce23191",
   "metadata": {},
   "source": [
    "---"
   ]
  },
  {
   "cell_type": "markdown",
   "id": "58db52cd-c787-449e-9116-351291c1eb46",
   "metadata": {},
   "source": [
    "#### **Question 3:** *What time should we display advertisements to maximize the likelihood of customers buying products?*\n",
    "\n",
    "**Answer:** The best time to show ads is **during either 12:00 pm or 11:00 pm**, as these are the times that the most orders are placed. This will increase the chances of ads being seen, as this is the time that the most active users are interacting with the website.\n",
    "\n",
    "Figure 3 shows the activity level in greater detail."
   ]
  },
  {
   "cell_type": "markdown",
   "id": "9e543604-8cb7-436e-bec8-7f83b310fddb",
   "metadata": {},
   "source": [
    "![Figure 3: Website Activity]('Pandas-Data-Science-Tasks/Results/Q3.png')"
   ]
  },
  {
   "cell_type": "markdown",
   "id": "5a72ea90-7895-4809-a87a-3e9aa016cbc8",
   "metadata": {},
   "source": [
    "---"
   ]
  },
  {
   "cell_type": "markdown",
   "id": "be90638e-c068-4b41-9162-f7140bb82977",
   "metadata": {},
   "source": [
    "#### **Question 4:** *Which items are most frequently purchased together in a single order?*\n",
    "\n",
    "**Answer:** The products that are most commonly purchased together are the products that in some way interact with one another. This includes things like iPhones and Lightning charging cables, Google Phones and USB-C charging cables, etc.\n",
    "\n",
    "The following table provides the top 5 sets of products that are most commonly purchased together:\n",
    "\n",
    "| Product 1 | Product 2 | Instances of Being Purchased Together |\n",
    "| --- | --- | --- |\n",
    "| iPhone | Lightning Charging Cable | 1005 |\n",
    "| Google Phone | USB-C Charging Cable | 987 |\n",
    "| iPhone | Wired Headphones | 447 |\n",
    "| Google Phone | Wired Headphones | 414 |\n",
    "| Vareebadd Phone | USB-C Charging Cable | 361 |\n",
    "\n",
    "Additionally, this table reflects the popularity of certain devices, such as the iPhone and the Google Phone. While close in number, there are slightly more iPhone-related purchases occurring than Google Phone-related purchases. This reflects the overall prevalence and popularity of iPhone devices in the smartphone market."
   ]
  },
  {
   "cell_type": "markdown",
   "id": "5f99e482-21a0-4ea1-a91c-e37903c8a885",
   "metadata": {},
   "source": [
    "---"
   ]
  },
  {
   "cell_type": "markdown",
   "id": "f7e66e91-ffb1-4467-916c-07308d3fcd78",
   "metadata": {},
   "source": [
    "#### **Question 5:** *Which items are most frequently purchased from the online store?*\n",
    "\n",
    "**Answer:** The items that sell the most in sheer quantity are **AA and AAA batteries, as well as charging cables**. These items actually have quite a bit in common that helps them to be the most frequently sold -- they're cheap and relatively disposable. Batteries need to be replaced regularly, and it's not uncommon for individuals to have multiple charging cables, or to require a replacement cable should one get lost or damaged. \n",
    "\n",
    "These items are also significantly cheaper than other, more permanent products such as phones, computers, etc. Since this question is particularly concerned with how many of each product is purchased, it makes sense that the products that are cheap and often have to be replaced sell the most frequently. Figure 5 shows this relationship in greater detail."
   ]
  },
  {
   "cell_type": "markdown",
   "id": "2538fe40-8714-4b74-8a5d-34409287895c",
   "metadata": {},
   "source": [
    "![Figure 5: Highest Selling Product}]('Pandas-Data-Science-Tasks/Results/Q5.png')"
   ]
  },
  {
   "cell_type": "markdown",
   "id": "b3982af1-b759-43ed-9554-3c9514f44b34",
   "metadata": {},
   "source": [
    "---"
   ]
  },
  {
   "cell_type": "markdown",
   "id": "52665dc3-d60e-4c6f-b68a-1769d13180b2",
   "metadata": {},
   "source": [
    "#### **Question 5:** *Which items make the store the most money?*\n",
    "\n",
    "**Answer:** Though the figure above may show they're not purchased very frequently compared to other items, the product that generates the most revenue is the **MacBook Pro Laptop**. This product is responsible for a drastically large percentage of the store's overall sales. When compared to the most frequently purchased, yet cheapest products -- AA and AAA batteries -- we can see that those products generate hardly any revenue for the store.\n",
    "\n",
    "Interestingly enough, the product that sold the least in Question 5 (the LG Washer and Dryer) also accounts for some of the lowest monetary sales. Perhaps this is due to better alternatives, pricing, or perhaps the appeal of a washer and dryer as opposed to a MacBook Pro or Phone. It may also have something to do with the lifespan of a product such as a washer or dryer, requiring very infrequently replacement or upgrade in its entirety. This is an interesting result that could use further exploration."
   ]
  },
  {
   "cell_type": "markdown",
   "id": "07b04e77-ad30-4f99-ad64-42a13c3d4770",
   "metadata": {},
   "source": [
    "![Figure 6: The Most Lucrative Products}]('Pandas-Data-Science-Tasks/Results/Q6.png')"
   ]
  },
  {
   "cell_type": "markdown",
   "id": "80a7b2f3-9710-4660-b27e-ce9b158397c2",
   "metadata": {},
   "source": [
    "---"
   ]
  },
  {
   "cell_type": "markdown",
   "id": "38d5da19-d77d-447e-b4cf-9a55964acf96",
   "metadata": {},
   "source": [
    "## Follow-Up Questions and Next Steps"
   ]
  },
  {
   "cell_type": "markdown",
   "id": "06a38b25-2c9c-4632-aa50-9e081d26d3da",
   "metadata": {},
   "source": []
  }
 ],
 "metadata": {
  "kernelspec": {
   "display_name": "Python 3 (ipykernel)",
   "language": "python",
   "name": "python3"
  },
  "language_info": {
   "codemirror_mode": {
    "name": "ipython",
    "version": 3
   },
   "file_extension": ".py",
   "mimetype": "text/x-python",
   "name": "python",
   "nbconvert_exporter": "python",
   "pygments_lexer": "ipython3",
   "version": "3.11.4"
  }
 },
 "nbformat": 4,
 "nbformat_minor": 5
}
