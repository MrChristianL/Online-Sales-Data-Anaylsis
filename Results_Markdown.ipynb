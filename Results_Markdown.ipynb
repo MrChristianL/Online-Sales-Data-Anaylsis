{
 "cells": [
  {
   "cell_type": "markdown",
   "id": "40e96370-e5de-487d-8f15-4251049fb4ca",
   "metadata": {},
   "source": [
    "# An Analysis of Online Store Customers"
   ]
  },
  {
   "cell_type": "markdown",
   "id": "4d60d2d1-a956-4cc2-9690-7db78bdde15e",
   "metadata": {},
   "source": [
    "To Do:\n",
    "- The Data\n",
    "- The dataset, the issues, etc.\n",
    "- The Forked Repo\n",
    "- The Questions & Results"
   ]
  },
  {
   "cell_type": "markdown",
   "id": "811e2f1c-b5eb-4d49-b818-3d0a74f88cce",
   "metadata": {},
   "source": [
    "## The Dataset"
   ]
  },
  {
   "cell_type": "markdown",
   "id": "45f1a8b0-5acd-4a90-aa7b-c63f59bbdd7b",
   "metadata": {},
   "source": [
    "Dataset provided courtesy of [Keith Galli](https://github.com/KeithGalli/Pandas-Data-Science-Tasks)\n",
    "\n",
    "The dataset consists of sales data for the year 2019. The data includes items purchased, how many of each, for what price, as well as the date, time, and purchase location of the online purchases made. In order to adequately clean this data, null values needed to be removed. Additionally, the dataset included rows that only held the name of each column reiterated throughout the dataset numerous times for the sake of readability. The final, cleaned dataset consists of roughly 190,000 rows of data."
   ]
  },
  {
   "cell_type": "markdown",
   "id": "ac186592-be81-48a2-bc0b-bcc4695682a8",
   "metadata": {},
   "source": [
    "---"
   ]
  },
  {
   "cell_type": "markdown",
   "id": "b6dfe451-3d13-4137-a507-9d6259361623",
   "metadata": {},
   "source": [
    "## The Questions Addressed"
   ]
  },
  {
   "cell_type": "markdown",
   "id": "b01a91eb-16b5-4f49-a594-f6a81eaac98a",
   "metadata": {},
   "source": [
    "#### **Question 1:** *What month is the best for sales, and how much was earned in that month?*\n",
    "\n",
    "Based on the dataset, the best month for sales is **December**. This is likely due to the occurrence of Christmas during the month of December -- the largest shopping holiday in the United States, annually. Additionally, sales spiked in April and again in October. These spikes are not so easily described by national holidays, considering the items purchased are not seasonal or festive (i.e. candy sales in October would be more easily explainable)."
   ]
  },
  {
   "cell_type": "markdown",
   "id": "980c9062-d613-4af6-8cbd-454d54ab7d3f",
   "metadata": {},
   "source": [
    "![Question 1: Monthly Sales Graph]('./Pandas-Data-Science-Tasks/Results/Q1.png' \"Question 1: Monthly Sales\")"
   ]
  },
  {
   "cell_type": "code",
   "execution_count": null,
   "id": "b043fd80-3abc-490e-8640-7b20ef6b4acf",
   "metadata": {},
   "outputs": [],
   "source": []
  },
  {
   "cell_type": "markdown",
   "id": "851587d6-6e41-4c89-a617-c3ba72fe0f65",
   "metadata": {},
   "source": [
    "---"
   ]
  }
 ],
 "metadata": {
  "kernelspec": {
   "display_name": "Python 3 (ipykernel)",
   "language": "python",
   "name": "python3"
  },
  "language_info": {
   "codemirror_mode": {
    "name": "ipython",
    "version": 3
   },
   "file_extension": ".py",
   "mimetype": "text/x-python",
   "name": "python",
   "nbconvert_exporter": "python",
   "pygments_lexer": "ipython3",
   "version": "3.11.4"
  }
 },
 "nbformat": 4,
 "nbformat_minor": 5
}
